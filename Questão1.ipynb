{
 "cells": [
  {
   "cell_type": "markdown",
   "id": "d7a2e95b",
   "metadata": {},
   "source": [
    "# Questão 1\n",
    "\n",
    "Tulio R. Ribeiro"
   ]
  },
  {
   "cell_type": "markdown",
   "id": "a627faf5",
   "metadata": {},
   "source": [
    "## 1. Importação das bibliotecas"
   ]
  },
  {
   "cell_type": "code",
   "execution_count": 1,
   "id": "02b93ecf",
   "metadata": {},
   "outputs": [],
   "source": [
    "import pandas as pd\n",
    "import numpy as np\n",
    "import matplotlib.pyplot as plt\n",
    "import seaborn as sns\n",
    "import scipy.stats as stats\n",
    "\n",
    "import warnings\n",
    "warnings.filterwarnings(\"ignore\")"
   ]
  },
  {
   "cell_type": "markdown",
   "id": "0bbd5a1d",
   "metadata": {},
   "source": [
    "## 2. Leitura do dataset"
   ]
  },
  {
   "cell_type": "code",
   "execution_count": 2,
   "id": "8cf69f27",
   "metadata": {},
   "outputs": [],
   "source": [
    "df = pd.read_csv('jena_climate_2009_2016.csv.zip', index_col='Date Time')\n",
    "df.index = pd.to_datetime(df.index, format='%d.%m.%Y %H:%M:%S')"
   ]
  },
  {
   "cell_type": "code",
   "execution_count": 3,
   "id": "606e4c64",
   "metadata": {},
   "outputs": [
    {
     "data": {
      "text/html": [
       "<div>\n",
       "<style scoped>\n",
       "    .dataframe tbody tr th:only-of-type {\n",
       "        vertical-align: middle;\n",
       "    }\n",
       "\n",
       "    .dataframe tbody tr th {\n",
       "        vertical-align: top;\n",
       "    }\n",
       "\n",
       "    .dataframe thead th {\n",
       "        text-align: right;\n",
       "    }\n",
       "</style>\n",
       "<table border=\"1\" class=\"dataframe\">\n",
       "  <thead>\n",
       "    <tr style=\"text-align: right;\">\n",
       "      <th></th>\n",
       "      <th>p (mbar)</th>\n",
       "      <th>T (degC)</th>\n",
       "      <th>Tpot (K)</th>\n",
       "      <th>Tdew (degC)</th>\n",
       "      <th>rh (%)</th>\n",
       "      <th>VPmax (mbar)</th>\n",
       "      <th>VPact (mbar)</th>\n",
       "      <th>VPdef (mbar)</th>\n",
       "      <th>sh (g/kg)</th>\n",
       "      <th>H2OC (mmol/mol)</th>\n",
       "      <th>rho (g/m**3)</th>\n",
       "      <th>wv (m/s)</th>\n",
       "      <th>max. wv (m/s)</th>\n",
       "      <th>wd (deg)</th>\n",
       "    </tr>\n",
       "    <tr>\n",
       "      <th>Date Time</th>\n",
       "      <th></th>\n",
       "      <th></th>\n",
       "      <th></th>\n",
       "      <th></th>\n",
       "      <th></th>\n",
       "      <th></th>\n",
       "      <th></th>\n",
       "      <th></th>\n",
       "      <th></th>\n",
       "      <th></th>\n",
       "      <th></th>\n",
       "      <th></th>\n",
       "      <th></th>\n",
       "      <th></th>\n",
       "    </tr>\n",
       "  </thead>\n",
       "  <tbody>\n",
       "    <tr>\n",
       "      <th>2009-01-01 00:10:00</th>\n",
       "      <td>996.52</td>\n",
       "      <td>-8.02</td>\n",
       "      <td>265.40</td>\n",
       "      <td>-8.90</td>\n",
       "      <td>93.3</td>\n",
       "      <td>3.33</td>\n",
       "      <td>3.11</td>\n",
       "      <td>0.22</td>\n",
       "      <td>1.94</td>\n",
       "      <td>3.12</td>\n",
       "      <td>1307.75</td>\n",
       "      <td>1.03</td>\n",
       "      <td>1.75</td>\n",
       "      <td>152.3</td>\n",
       "    </tr>\n",
       "    <tr>\n",
       "      <th>2009-01-01 00:20:00</th>\n",
       "      <td>996.57</td>\n",
       "      <td>-8.41</td>\n",
       "      <td>265.01</td>\n",
       "      <td>-9.28</td>\n",
       "      <td>93.4</td>\n",
       "      <td>3.23</td>\n",
       "      <td>3.02</td>\n",
       "      <td>0.21</td>\n",
       "      <td>1.89</td>\n",
       "      <td>3.03</td>\n",
       "      <td>1309.80</td>\n",
       "      <td>0.72</td>\n",
       "      <td>1.50</td>\n",
       "      <td>136.1</td>\n",
       "    </tr>\n",
       "    <tr>\n",
       "      <th>2009-01-01 00:30:00</th>\n",
       "      <td>996.53</td>\n",
       "      <td>-8.51</td>\n",
       "      <td>264.91</td>\n",
       "      <td>-9.31</td>\n",
       "      <td>93.9</td>\n",
       "      <td>3.21</td>\n",
       "      <td>3.01</td>\n",
       "      <td>0.20</td>\n",
       "      <td>1.88</td>\n",
       "      <td>3.02</td>\n",
       "      <td>1310.24</td>\n",
       "      <td>0.19</td>\n",
       "      <td>0.63</td>\n",
       "      <td>171.6</td>\n",
       "    </tr>\n",
       "    <tr>\n",
       "      <th>2009-01-01 00:40:00</th>\n",
       "      <td>996.51</td>\n",
       "      <td>-8.31</td>\n",
       "      <td>265.12</td>\n",
       "      <td>-9.07</td>\n",
       "      <td>94.2</td>\n",
       "      <td>3.26</td>\n",
       "      <td>3.07</td>\n",
       "      <td>0.19</td>\n",
       "      <td>1.92</td>\n",
       "      <td>3.08</td>\n",
       "      <td>1309.19</td>\n",
       "      <td>0.34</td>\n",
       "      <td>0.50</td>\n",
       "      <td>198.0</td>\n",
       "    </tr>\n",
       "    <tr>\n",
       "      <th>2009-01-01 00:50:00</th>\n",
       "      <td>996.51</td>\n",
       "      <td>-8.27</td>\n",
       "      <td>265.15</td>\n",
       "      <td>-9.04</td>\n",
       "      <td>94.1</td>\n",
       "      <td>3.27</td>\n",
       "      <td>3.08</td>\n",
       "      <td>0.19</td>\n",
       "      <td>1.92</td>\n",
       "      <td>3.09</td>\n",
       "      <td>1309.00</td>\n",
       "      <td>0.32</td>\n",
       "      <td>0.63</td>\n",
       "      <td>214.3</td>\n",
       "    </tr>\n",
       "  </tbody>\n",
       "</table>\n",
       "</div>"
      ],
      "text/plain": [
       "                     p (mbar)  T (degC)  Tpot (K)  Tdew (degC)  rh (%)  \\\n",
       "Date Time                                                                \n",
       "2009-01-01 00:10:00    996.52     -8.02    265.40        -8.90    93.3   \n",
       "2009-01-01 00:20:00    996.57     -8.41    265.01        -9.28    93.4   \n",
       "2009-01-01 00:30:00    996.53     -8.51    264.91        -9.31    93.9   \n",
       "2009-01-01 00:40:00    996.51     -8.31    265.12        -9.07    94.2   \n",
       "2009-01-01 00:50:00    996.51     -8.27    265.15        -9.04    94.1   \n",
       "\n",
       "                     VPmax (mbar)  VPact (mbar)  VPdef (mbar)  sh (g/kg)  \\\n",
       "Date Time                                                                  \n",
       "2009-01-01 00:10:00          3.33          3.11          0.22       1.94   \n",
       "2009-01-01 00:20:00          3.23          3.02          0.21       1.89   \n",
       "2009-01-01 00:30:00          3.21          3.01          0.20       1.88   \n",
       "2009-01-01 00:40:00          3.26          3.07          0.19       1.92   \n",
       "2009-01-01 00:50:00          3.27          3.08          0.19       1.92   \n",
       "\n",
       "                     H2OC (mmol/mol)  rho (g/m**3)  wv (m/s)  max. wv (m/s)  \\\n",
       "Date Time                                                                     \n",
       "2009-01-01 00:10:00             3.12       1307.75      1.03           1.75   \n",
       "2009-01-01 00:20:00             3.03       1309.80      0.72           1.50   \n",
       "2009-01-01 00:30:00             3.02       1310.24      0.19           0.63   \n",
       "2009-01-01 00:40:00             3.08       1309.19      0.34           0.50   \n",
       "2009-01-01 00:50:00             3.09       1309.00      0.32           0.63   \n",
       "\n",
       "                     wd (deg)  \n",
       "Date Time                      \n",
       "2009-01-01 00:10:00     152.3  \n",
       "2009-01-01 00:20:00     136.1  \n",
       "2009-01-01 00:30:00     171.6  \n",
       "2009-01-01 00:40:00     198.0  \n",
       "2009-01-01 00:50:00     214.3  "
      ]
     },
     "execution_count": 3,
     "metadata": {},
     "output_type": "execute_result"
    }
   ],
   "source": [
    "df.head()"
   ]
  },
  {
   "cell_type": "code",
   "execution_count": 4,
   "id": "cf8964e5",
   "metadata": {},
   "outputs": [
    {
     "data": {
      "text/html": [
       "<div>\n",
       "<style scoped>\n",
       "    .dataframe tbody tr th:only-of-type {\n",
       "        vertical-align: middle;\n",
       "    }\n",
       "\n",
       "    .dataframe tbody tr th {\n",
       "        vertical-align: top;\n",
       "    }\n",
       "\n",
       "    .dataframe thead th {\n",
       "        text-align: right;\n",
       "    }\n",
       "</style>\n",
       "<table border=\"1\" class=\"dataframe\">\n",
       "  <thead>\n",
       "    <tr style=\"text-align: right;\">\n",
       "      <th></th>\n",
       "      <th>p (mbar)</th>\n",
       "      <th>T (degC)</th>\n",
       "      <th>Tpot (K)</th>\n",
       "      <th>Tdew (degC)</th>\n",
       "      <th>rh (%)</th>\n",
       "      <th>VPmax (mbar)</th>\n",
       "      <th>VPact (mbar)</th>\n",
       "      <th>VPdef (mbar)</th>\n",
       "      <th>sh (g/kg)</th>\n",
       "      <th>H2OC (mmol/mol)</th>\n",
       "      <th>rho (g/m**3)</th>\n",
       "      <th>wv (m/s)</th>\n",
       "      <th>max. wv (m/s)</th>\n",
       "      <th>wd (deg)</th>\n",
       "    </tr>\n",
       "    <tr>\n",
       "      <th>Date Time</th>\n",
       "      <th></th>\n",
       "      <th></th>\n",
       "      <th></th>\n",
       "      <th></th>\n",
       "      <th></th>\n",
       "      <th></th>\n",
       "      <th></th>\n",
       "      <th></th>\n",
       "      <th></th>\n",
       "      <th></th>\n",
       "      <th></th>\n",
       "      <th></th>\n",
       "      <th></th>\n",
       "      <th></th>\n",
       "    </tr>\n",
       "  </thead>\n",
       "  <tbody>\n",
       "    <tr>\n",
       "      <th>2016-12-31 23:20:00</th>\n",
       "      <td>1000.07</td>\n",
       "      <td>-4.05</td>\n",
       "      <td>269.10</td>\n",
       "      <td>-8.13</td>\n",
       "      <td>73.10</td>\n",
       "      <td>4.52</td>\n",
       "      <td>3.30</td>\n",
       "      <td>1.22</td>\n",
       "      <td>2.06</td>\n",
       "      <td>3.30</td>\n",
       "      <td>1292.98</td>\n",
       "      <td>0.67</td>\n",
       "      <td>1.52</td>\n",
       "      <td>240.0</td>\n",
       "    </tr>\n",
       "    <tr>\n",
       "      <th>2016-12-31 23:30:00</th>\n",
       "      <td>999.93</td>\n",
       "      <td>-3.35</td>\n",
       "      <td>269.81</td>\n",
       "      <td>-8.06</td>\n",
       "      <td>69.71</td>\n",
       "      <td>4.77</td>\n",
       "      <td>3.32</td>\n",
       "      <td>1.44</td>\n",
       "      <td>2.07</td>\n",
       "      <td>3.32</td>\n",
       "      <td>1289.44</td>\n",
       "      <td>1.14</td>\n",
       "      <td>1.92</td>\n",
       "      <td>234.3</td>\n",
       "    </tr>\n",
       "    <tr>\n",
       "      <th>2016-12-31 23:40:00</th>\n",
       "      <td>999.82</td>\n",
       "      <td>-3.16</td>\n",
       "      <td>270.01</td>\n",
       "      <td>-8.21</td>\n",
       "      <td>67.91</td>\n",
       "      <td>4.84</td>\n",
       "      <td>3.28</td>\n",
       "      <td>1.55</td>\n",
       "      <td>2.05</td>\n",
       "      <td>3.28</td>\n",
       "      <td>1288.39</td>\n",
       "      <td>1.08</td>\n",
       "      <td>2.00</td>\n",
       "      <td>215.2</td>\n",
       "    </tr>\n",
       "    <tr>\n",
       "      <th>2016-12-31 23:50:00</th>\n",
       "      <td>999.81</td>\n",
       "      <td>-4.23</td>\n",
       "      <td>268.94</td>\n",
       "      <td>-8.53</td>\n",
       "      <td>71.80</td>\n",
       "      <td>4.46</td>\n",
       "      <td>3.20</td>\n",
       "      <td>1.26</td>\n",
       "      <td>1.99</td>\n",
       "      <td>3.20</td>\n",
       "      <td>1293.56</td>\n",
       "      <td>1.49</td>\n",
       "      <td>2.16</td>\n",
       "      <td>225.8</td>\n",
       "    </tr>\n",
       "    <tr>\n",
       "      <th>2017-01-01 00:00:00</th>\n",
       "      <td>999.82</td>\n",
       "      <td>-4.82</td>\n",
       "      <td>268.36</td>\n",
       "      <td>-8.42</td>\n",
       "      <td>75.70</td>\n",
       "      <td>4.27</td>\n",
       "      <td>3.23</td>\n",
       "      <td>1.04</td>\n",
       "      <td>2.01</td>\n",
       "      <td>3.23</td>\n",
       "      <td>1296.38</td>\n",
       "      <td>1.23</td>\n",
       "      <td>1.96</td>\n",
       "      <td>184.9</td>\n",
       "    </tr>\n",
       "  </tbody>\n",
       "</table>\n",
       "</div>"
      ],
      "text/plain": [
       "                     p (mbar)  T (degC)  Tpot (K)  Tdew (degC)  rh (%)  \\\n",
       "Date Time                                                                \n",
       "2016-12-31 23:20:00   1000.07     -4.05    269.10        -8.13   73.10   \n",
       "2016-12-31 23:30:00    999.93     -3.35    269.81        -8.06   69.71   \n",
       "2016-12-31 23:40:00    999.82     -3.16    270.01        -8.21   67.91   \n",
       "2016-12-31 23:50:00    999.81     -4.23    268.94        -8.53   71.80   \n",
       "2017-01-01 00:00:00    999.82     -4.82    268.36        -8.42   75.70   \n",
       "\n",
       "                     VPmax (mbar)  VPact (mbar)  VPdef (mbar)  sh (g/kg)  \\\n",
       "Date Time                                                                  \n",
       "2016-12-31 23:20:00          4.52          3.30          1.22       2.06   \n",
       "2016-12-31 23:30:00          4.77          3.32          1.44       2.07   \n",
       "2016-12-31 23:40:00          4.84          3.28          1.55       2.05   \n",
       "2016-12-31 23:50:00          4.46          3.20          1.26       1.99   \n",
       "2017-01-01 00:00:00          4.27          3.23          1.04       2.01   \n",
       "\n",
       "                     H2OC (mmol/mol)  rho (g/m**3)  wv (m/s)  max. wv (m/s)  \\\n",
       "Date Time                                                                     \n",
       "2016-12-31 23:20:00             3.30       1292.98      0.67           1.52   \n",
       "2016-12-31 23:30:00             3.32       1289.44      1.14           1.92   \n",
       "2016-12-31 23:40:00             3.28       1288.39      1.08           2.00   \n",
       "2016-12-31 23:50:00             3.20       1293.56      1.49           2.16   \n",
       "2017-01-01 00:00:00             3.23       1296.38      1.23           1.96   \n",
       "\n",
       "                     wd (deg)  \n",
       "Date Time                      \n",
       "2016-12-31 23:20:00     240.0  \n",
       "2016-12-31 23:30:00     234.3  \n",
       "2016-12-31 23:40:00     215.2  \n",
       "2016-12-31 23:50:00     225.8  \n",
       "2017-01-01 00:00:00     184.9  "
      ]
     },
     "execution_count": 4,
     "metadata": {},
     "output_type": "execute_result"
    }
   ],
   "source": [
    "df.tail()"
   ]
  },
  {
   "cell_type": "code",
   "execution_count": 5,
   "id": "a994d6dd",
   "metadata": {},
   "outputs": [
    {
     "name": "stdout",
     "output_type": "stream",
     "text": [
      "<class 'pandas.core.frame.DataFrame'>\n",
      "DatetimeIndex: 420551 entries, 2009-01-01 00:10:00 to 2017-01-01 00:00:00\n",
      "Data columns (total 14 columns):\n",
      " #   Column           Non-Null Count   Dtype  \n",
      "---  ------           --------------   -----  \n",
      " 0   p (mbar)         420551 non-null  float64\n",
      " 1   T (degC)         420551 non-null  float64\n",
      " 2   Tpot (K)         420551 non-null  float64\n",
      " 3   Tdew (degC)      420551 non-null  float64\n",
      " 4   rh (%)           420551 non-null  float64\n",
      " 5   VPmax (mbar)     420551 non-null  float64\n",
      " 6   VPact (mbar)     420551 non-null  float64\n",
      " 7   VPdef (mbar)     420551 non-null  float64\n",
      " 8   sh (g/kg)        420551 non-null  float64\n",
      " 9   H2OC (mmol/mol)  420551 non-null  float64\n",
      " 10  rho (g/m**3)     420551 non-null  float64\n",
      " 11  wv (m/s)         420551 non-null  float64\n",
      " 12  max. wv (m/s)    420551 non-null  float64\n",
      " 13  wd (deg)         420551 non-null  float64\n",
      "dtypes: float64(14)\n",
      "memory usage: 48.1 MB\n"
     ]
    }
   ],
   "source": [
    "df.info()"
   ]
  },
  {
   "cell_type": "code",
   "execution_count": 6,
   "id": "28bce008",
   "metadata": {},
   "outputs": [
    {
     "data": {
      "text/html": [
       "<div>\n",
       "<style scoped>\n",
       "    .dataframe tbody tr th:only-of-type {\n",
       "        vertical-align: middle;\n",
       "    }\n",
       "\n",
       "    .dataframe tbody tr th {\n",
       "        vertical-align: top;\n",
       "    }\n",
       "\n",
       "    .dataframe thead th {\n",
       "        text-align: right;\n",
       "    }\n",
       "</style>\n",
       "<table border=\"1\" class=\"dataframe\">\n",
       "  <thead>\n",
       "    <tr style=\"text-align: right;\">\n",
       "      <th></th>\n",
       "      <th>p (mbar)</th>\n",
       "      <th>T (degC)</th>\n",
       "      <th>Tpot (K)</th>\n",
       "      <th>Tdew (degC)</th>\n",
       "      <th>rh (%)</th>\n",
       "      <th>VPmax (mbar)</th>\n",
       "      <th>VPact (mbar)</th>\n",
       "      <th>VPdef (mbar)</th>\n",
       "      <th>sh (g/kg)</th>\n",
       "      <th>H2OC (mmol/mol)</th>\n",
       "      <th>rho (g/m**3)</th>\n",
       "      <th>wv (m/s)</th>\n",
       "      <th>max. wv (m/s)</th>\n",
       "      <th>wd (deg)</th>\n",
       "    </tr>\n",
       "  </thead>\n",
       "  <tbody>\n",
       "    <tr>\n",
       "      <th>count</th>\n",
       "      <td>420551.000000</td>\n",
       "      <td>420551.000000</td>\n",
       "      <td>420551.000000</td>\n",
       "      <td>420551.000000</td>\n",
       "      <td>420551.000000</td>\n",
       "      <td>420551.000000</td>\n",
       "      <td>420551.000000</td>\n",
       "      <td>420551.000000</td>\n",
       "      <td>420551.000000</td>\n",
       "      <td>420551.000000</td>\n",
       "      <td>420551.000000</td>\n",
       "      <td>420551.000000</td>\n",
       "      <td>420551.000000</td>\n",
       "      <td>420551.000000</td>\n",
       "    </tr>\n",
       "    <tr>\n",
       "      <th>mean</th>\n",
       "      <td>989.212776</td>\n",
       "      <td>9.450147</td>\n",
       "      <td>283.492743</td>\n",
       "      <td>4.955854</td>\n",
       "      <td>76.008259</td>\n",
       "      <td>13.576251</td>\n",
       "      <td>9.533756</td>\n",
       "      <td>4.042412</td>\n",
       "      <td>6.022408</td>\n",
       "      <td>9.640223</td>\n",
       "      <td>1216.062748</td>\n",
       "      <td>1.702224</td>\n",
       "      <td>3.056555</td>\n",
       "      <td>174.743738</td>\n",
       "    </tr>\n",
       "    <tr>\n",
       "      <th>std</th>\n",
       "      <td>8.358481</td>\n",
       "      <td>8.423365</td>\n",
       "      <td>8.504471</td>\n",
       "      <td>6.730674</td>\n",
       "      <td>16.476175</td>\n",
       "      <td>7.739020</td>\n",
       "      <td>4.184164</td>\n",
       "      <td>4.896851</td>\n",
       "      <td>2.656139</td>\n",
       "      <td>4.235395</td>\n",
       "      <td>39.975208</td>\n",
       "      <td>65.446714</td>\n",
       "      <td>69.016932</td>\n",
       "      <td>86.681693</td>\n",
       "    </tr>\n",
       "    <tr>\n",
       "      <th>min</th>\n",
       "      <td>913.600000</td>\n",
       "      <td>-23.010000</td>\n",
       "      <td>250.600000</td>\n",
       "      <td>-25.010000</td>\n",
       "      <td>12.950000</td>\n",
       "      <td>0.950000</td>\n",
       "      <td>0.790000</td>\n",
       "      <td>0.000000</td>\n",
       "      <td>0.500000</td>\n",
       "      <td>0.800000</td>\n",
       "      <td>1059.450000</td>\n",
       "      <td>-9999.000000</td>\n",
       "      <td>-9999.000000</td>\n",
       "      <td>0.000000</td>\n",
       "    </tr>\n",
       "    <tr>\n",
       "      <th>25%</th>\n",
       "      <td>984.200000</td>\n",
       "      <td>3.360000</td>\n",
       "      <td>277.430000</td>\n",
       "      <td>0.240000</td>\n",
       "      <td>65.210000</td>\n",
       "      <td>7.780000</td>\n",
       "      <td>6.210000</td>\n",
       "      <td>0.870000</td>\n",
       "      <td>3.920000</td>\n",
       "      <td>6.290000</td>\n",
       "      <td>1187.490000</td>\n",
       "      <td>0.990000</td>\n",
       "      <td>1.760000</td>\n",
       "      <td>124.900000</td>\n",
       "    </tr>\n",
       "    <tr>\n",
       "      <th>50%</th>\n",
       "      <td>989.580000</td>\n",
       "      <td>9.420000</td>\n",
       "      <td>283.470000</td>\n",
       "      <td>5.220000</td>\n",
       "      <td>79.300000</td>\n",
       "      <td>11.820000</td>\n",
       "      <td>8.860000</td>\n",
       "      <td>2.190000</td>\n",
       "      <td>5.590000</td>\n",
       "      <td>8.960000</td>\n",
       "      <td>1213.790000</td>\n",
       "      <td>1.760000</td>\n",
       "      <td>2.960000</td>\n",
       "      <td>198.100000</td>\n",
       "    </tr>\n",
       "    <tr>\n",
       "      <th>75%</th>\n",
       "      <td>994.720000</td>\n",
       "      <td>15.470000</td>\n",
       "      <td>289.530000</td>\n",
       "      <td>10.070000</td>\n",
       "      <td>89.400000</td>\n",
       "      <td>17.600000</td>\n",
       "      <td>12.350000</td>\n",
       "      <td>5.300000</td>\n",
       "      <td>7.800000</td>\n",
       "      <td>12.490000</td>\n",
       "      <td>1242.770000</td>\n",
       "      <td>2.860000</td>\n",
       "      <td>4.740000</td>\n",
       "      <td>234.100000</td>\n",
       "    </tr>\n",
       "    <tr>\n",
       "      <th>max</th>\n",
       "      <td>1015.350000</td>\n",
       "      <td>37.280000</td>\n",
       "      <td>311.340000</td>\n",
       "      <td>23.110000</td>\n",
       "      <td>100.000000</td>\n",
       "      <td>63.770000</td>\n",
       "      <td>28.320000</td>\n",
       "      <td>46.010000</td>\n",
       "      <td>18.130000</td>\n",
       "      <td>28.820000</td>\n",
       "      <td>1393.540000</td>\n",
       "      <td>28.490000</td>\n",
       "      <td>23.500000</td>\n",
       "      <td>360.000000</td>\n",
       "    </tr>\n",
       "  </tbody>\n",
       "</table>\n",
       "</div>"
      ],
      "text/plain": [
       "            p (mbar)       T (degC)       Tpot (K)    Tdew (degC)  \\\n",
       "count  420551.000000  420551.000000  420551.000000  420551.000000   \n",
       "mean      989.212776       9.450147     283.492743       4.955854   \n",
       "std         8.358481       8.423365       8.504471       6.730674   \n",
       "min       913.600000     -23.010000     250.600000     -25.010000   \n",
       "25%       984.200000       3.360000     277.430000       0.240000   \n",
       "50%       989.580000       9.420000     283.470000       5.220000   \n",
       "75%       994.720000      15.470000     289.530000      10.070000   \n",
       "max      1015.350000      37.280000     311.340000      23.110000   \n",
       "\n",
       "              rh (%)   VPmax (mbar)   VPact (mbar)   VPdef (mbar)  \\\n",
       "count  420551.000000  420551.000000  420551.000000  420551.000000   \n",
       "mean       76.008259      13.576251       9.533756       4.042412   \n",
       "std        16.476175       7.739020       4.184164       4.896851   \n",
       "min        12.950000       0.950000       0.790000       0.000000   \n",
       "25%        65.210000       7.780000       6.210000       0.870000   \n",
       "50%        79.300000      11.820000       8.860000       2.190000   \n",
       "75%        89.400000      17.600000      12.350000       5.300000   \n",
       "max       100.000000      63.770000      28.320000      46.010000   \n",
       "\n",
       "           sh (g/kg)  H2OC (mmol/mol)   rho (g/m**3)       wv (m/s)  \\\n",
       "count  420551.000000    420551.000000  420551.000000  420551.000000   \n",
       "mean        6.022408         9.640223    1216.062748       1.702224   \n",
       "std         2.656139         4.235395      39.975208      65.446714   \n",
       "min         0.500000         0.800000    1059.450000   -9999.000000   \n",
       "25%         3.920000         6.290000    1187.490000       0.990000   \n",
       "50%         5.590000         8.960000    1213.790000       1.760000   \n",
       "75%         7.800000        12.490000    1242.770000       2.860000   \n",
       "max        18.130000        28.820000    1393.540000      28.490000   \n",
       "\n",
       "       max. wv (m/s)       wd (deg)  \n",
       "count  420551.000000  420551.000000  \n",
       "mean        3.056555     174.743738  \n",
       "std        69.016932      86.681693  \n",
       "min     -9999.000000       0.000000  \n",
       "25%         1.760000     124.900000  \n",
       "50%         2.960000     198.100000  \n",
       "75%         4.740000     234.100000  \n",
       "max        23.500000     360.000000  "
      ]
     },
     "execution_count": 6,
     "metadata": {},
     "output_type": "execute_result"
    }
   ],
   "source": [
    "df.describe()"
   ]
  },
  {
   "cell_type": "markdown",
   "id": "311a9600",
   "metadata": {},
   "source": [
    "## 3. Tratamento inicial do dataset\n",
    "\n",
    "Para realizar o tratamento inicial do dataset foram realizados os seguintes passos:\n",
    "\n",
    "* Remoção de linhas duplicadas\n",
    "* Agrupamento do dataset por hora ao invés de a cada 10 minutos"
   ]
  },
  {
   "cell_type": "code",
   "execution_count": 7,
   "id": "f4d4634b",
   "metadata": {},
   "outputs": [
    {
     "data": {
      "text/plain": [
       "327"
      ]
     },
     "execution_count": 7,
     "metadata": {},
     "output_type": "execute_result"
    }
   ],
   "source": [
    "# quantidade de linhas duplicadas\n",
    "df.index.duplicated().sum()"
   ]
  },
  {
   "cell_type": "code",
   "execution_count": 8,
   "id": "ed41a044",
   "metadata": {},
   "outputs": [],
   "source": [
    "# remove as linhas duplicadas\n",
    "df = df.loc[~df.index.duplicated(), :]"
   ]
  },
  {
   "cell_type": "markdown",
   "id": "d124cd35",
   "metadata": {},
   "source": [
    "O método ```df[5::6]``` para segmentar o dataset em intervalos de 1 hora não foi eficaz, pois observa-se no final do dataset que o índice não está mais por hora, conforme demonstrado abaixo. A possível causa disso seja uma alteração no padrão de medição em algum ponto do dataset."
   ]
  },
  {
   "cell_type": "code",
   "execution_count": 9,
   "id": "24c6c74c",
   "metadata": {},
   "outputs": [
    {
     "data": {
      "text/html": [
       "<div>\n",
       "<style scoped>\n",
       "    .dataframe tbody tr th:only-of-type {\n",
       "        vertical-align: middle;\n",
       "    }\n",
       "\n",
       "    .dataframe tbody tr th {\n",
       "        vertical-align: top;\n",
       "    }\n",
       "\n",
       "    .dataframe thead th {\n",
       "        text-align: right;\n",
       "    }\n",
       "</style>\n",
       "<table border=\"1\" class=\"dataframe\">\n",
       "  <thead>\n",
       "    <tr style=\"text-align: right;\">\n",
       "      <th></th>\n",
       "      <th>p (mbar)</th>\n",
       "      <th>T (degC)</th>\n",
       "      <th>Tpot (K)</th>\n",
       "      <th>Tdew (degC)</th>\n",
       "      <th>rh (%)</th>\n",
       "      <th>VPmax (mbar)</th>\n",
       "      <th>VPact (mbar)</th>\n",
       "      <th>VPdef (mbar)</th>\n",
       "      <th>sh (g/kg)</th>\n",
       "      <th>H2OC (mmol/mol)</th>\n",
       "      <th>rho (g/m**3)</th>\n",
       "      <th>wv (m/s)</th>\n",
       "      <th>max. wv (m/s)</th>\n",
       "      <th>wd (deg)</th>\n",
       "    </tr>\n",
       "    <tr>\n",
       "      <th>Date Time</th>\n",
       "      <th></th>\n",
       "      <th></th>\n",
       "      <th></th>\n",
       "      <th></th>\n",
       "      <th></th>\n",
       "      <th></th>\n",
       "      <th></th>\n",
       "      <th></th>\n",
       "      <th></th>\n",
       "      <th></th>\n",
       "      <th></th>\n",
       "      <th></th>\n",
       "      <th></th>\n",
       "      <th></th>\n",
       "    </tr>\n",
       "  </thead>\n",
       "  <tbody>\n",
       "    <tr>\n",
       "      <th>2016-12-31 19:40:00</th>\n",
       "      <td>1001.78</td>\n",
       "      <td>-1.61</td>\n",
       "      <td>271.41</td>\n",
       "      <td>-6.23</td>\n",
       "      <td>70.60</td>\n",
       "      <td>5.43</td>\n",
       "      <td>3.83</td>\n",
       "      <td>1.60</td>\n",
       "      <td>2.38</td>\n",
       "      <td>3.82</td>\n",
       "      <td>1283.30</td>\n",
       "      <td>0.20</td>\n",
       "      <td>0.48</td>\n",
       "      <td>298.30</td>\n",
       "    </tr>\n",
       "    <tr>\n",
       "      <th>2016-12-31 20:40:00</th>\n",
       "      <td>1001.39</td>\n",
       "      <td>-3.30</td>\n",
       "      <td>269.75</td>\n",
       "      <td>-6.82</td>\n",
       "      <td>76.50</td>\n",
       "      <td>4.78</td>\n",
       "      <td>3.66</td>\n",
       "      <td>1.12</td>\n",
       "      <td>2.28</td>\n",
       "      <td>3.65</td>\n",
       "      <td>1290.91</td>\n",
       "      <td>0.49</td>\n",
       "      <td>1.04</td>\n",
       "      <td>188.10</td>\n",
       "    </tr>\n",
       "    <tr>\n",
       "      <th>2016-12-31 21:40:00</th>\n",
       "      <td>1001.00</td>\n",
       "      <td>-2.48</td>\n",
       "      <td>270.60</td>\n",
       "      <td>-6.97</td>\n",
       "      <td>71.10</td>\n",
       "      <td>5.09</td>\n",
       "      <td>3.62</td>\n",
       "      <td>1.47</td>\n",
       "      <td>2.25</td>\n",
       "      <td>3.61</td>\n",
       "      <td>1286.50</td>\n",
       "      <td>0.62</td>\n",
       "      <td>1.02</td>\n",
       "      <td>30.62</td>\n",
       "    </tr>\n",
       "    <tr>\n",
       "      <th>2016-12-31 22:40:00</th>\n",
       "      <td>1000.45</td>\n",
       "      <td>-4.45</td>\n",
       "      <td>268.68</td>\n",
       "      <td>-7.15</td>\n",
       "      <td>81.30</td>\n",
       "      <td>4.39</td>\n",
       "      <td>3.57</td>\n",
       "      <td>0.82</td>\n",
       "      <td>2.22</td>\n",
       "      <td>3.57</td>\n",
       "      <td>1295.24</td>\n",
       "      <td>0.80</td>\n",
       "      <td>1.44</td>\n",
       "      <td>183.80</td>\n",
       "    </tr>\n",
       "    <tr>\n",
       "      <th>2016-12-31 23:40:00</th>\n",
       "      <td>999.82</td>\n",
       "      <td>-3.16</td>\n",
       "      <td>270.01</td>\n",
       "      <td>-8.21</td>\n",
       "      <td>67.91</td>\n",
       "      <td>4.84</td>\n",
       "      <td>3.28</td>\n",
       "      <td>1.55</td>\n",
       "      <td>2.05</td>\n",
       "      <td>3.28</td>\n",
       "      <td>1288.39</td>\n",
       "      <td>1.08</td>\n",
       "      <td>2.00</td>\n",
       "      <td>215.20</td>\n",
       "    </tr>\n",
       "  </tbody>\n",
       "</table>\n",
       "</div>"
      ],
      "text/plain": [
       "                     p (mbar)  T (degC)  Tpot (K)  Tdew (degC)  rh (%)  \\\n",
       "Date Time                                                                \n",
       "2016-12-31 19:40:00   1001.78     -1.61    271.41        -6.23   70.60   \n",
       "2016-12-31 20:40:00   1001.39     -3.30    269.75        -6.82   76.50   \n",
       "2016-12-31 21:40:00   1001.00     -2.48    270.60        -6.97   71.10   \n",
       "2016-12-31 22:40:00   1000.45     -4.45    268.68        -7.15   81.30   \n",
       "2016-12-31 23:40:00    999.82     -3.16    270.01        -8.21   67.91   \n",
       "\n",
       "                     VPmax (mbar)  VPact (mbar)  VPdef (mbar)  sh (g/kg)  \\\n",
       "Date Time                                                                  \n",
       "2016-12-31 19:40:00          5.43          3.83          1.60       2.38   \n",
       "2016-12-31 20:40:00          4.78          3.66          1.12       2.28   \n",
       "2016-12-31 21:40:00          5.09          3.62          1.47       2.25   \n",
       "2016-12-31 22:40:00          4.39          3.57          0.82       2.22   \n",
       "2016-12-31 23:40:00          4.84          3.28          1.55       2.05   \n",
       "\n",
       "                     H2OC (mmol/mol)  rho (g/m**3)  wv (m/s)  max. wv (m/s)  \\\n",
       "Date Time                                                                     \n",
       "2016-12-31 19:40:00             3.82       1283.30      0.20           0.48   \n",
       "2016-12-31 20:40:00             3.65       1290.91      0.49           1.04   \n",
       "2016-12-31 21:40:00             3.61       1286.50      0.62           1.02   \n",
       "2016-12-31 22:40:00             3.57       1295.24      0.80           1.44   \n",
       "2016-12-31 23:40:00             3.28       1288.39      1.08           2.00   \n",
       "\n",
       "                     wd (deg)  \n",
       "Date Time                      \n",
       "2016-12-31 19:40:00    298.30  \n",
       "2016-12-31 20:40:00    188.10  \n",
       "2016-12-31 21:40:00     30.62  \n",
       "2016-12-31 22:40:00    183.80  \n",
       "2016-12-31 23:40:00    215.20  "
      ]
     },
     "execution_count": 9,
     "metadata": {},
     "output_type": "execute_result"
    }
   ],
   "source": [
    "df[5::6].tail()"
   ]
  },
  {
   "cell_type": "code",
   "execution_count": 10,
   "id": "cdbd4b25",
   "metadata": {},
   "outputs": [
    {
     "data": {
      "text/plain": [
       "<pandas.core.resample.DatetimeIndexResampler object at 0x00000255FCCC6B80>"
      ]
     },
     "execution_count": 10,
     "metadata": {},
     "output_type": "execute_result"
    }
   ],
   "source": [
    "df.resample('1H')"
   ]
  },
  {
   "cell_type": "code",
   "execution_count": 11,
   "id": "445220c5",
   "metadata": {},
   "outputs": [],
   "source": [
    "# Segmentação das instâncias por hora\n",
    "df_hourly = df[df.index.minute == 0]"
   ]
  },
  {
   "cell_type": "code",
   "execution_count": 12,
   "id": "1cbe4923",
   "metadata": {},
   "outputs": [
    {
     "data": {
      "text/html": [
       "<div>\n",
       "<style scoped>\n",
       "    .dataframe tbody tr th:only-of-type {\n",
       "        vertical-align: middle;\n",
       "    }\n",
       "\n",
       "    .dataframe tbody tr th {\n",
       "        vertical-align: top;\n",
       "    }\n",
       "\n",
       "    .dataframe thead th {\n",
       "        text-align: right;\n",
       "    }\n",
       "</style>\n",
       "<table border=\"1\" class=\"dataframe\">\n",
       "  <thead>\n",
       "    <tr style=\"text-align: right;\">\n",
       "      <th></th>\n",
       "      <th>p (mbar)</th>\n",
       "      <th>T (degC)</th>\n",
       "      <th>Tpot (K)</th>\n",
       "      <th>Tdew (degC)</th>\n",
       "      <th>rh (%)</th>\n",
       "      <th>VPmax (mbar)</th>\n",
       "      <th>VPact (mbar)</th>\n",
       "      <th>VPdef (mbar)</th>\n",
       "      <th>sh (g/kg)</th>\n",
       "      <th>H2OC (mmol/mol)</th>\n",
       "      <th>rho (g/m**3)</th>\n",
       "      <th>wv (m/s)</th>\n",
       "      <th>max. wv (m/s)</th>\n",
       "      <th>wd (deg)</th>\n",
       "    </tr>\n",
       "    <tr>\n",
       "      <th>Date Time</th>\n",
       "      <th></th>\n",
       "      <th></th>\n",
       "      <th></th>\n",
       "      <th></th>\n",
       "      <th></th>\n",
       "      <th></th>\n",
       "      <th></th>\n",
       "      <th></th>\n",
       "      <th></th>\n",
       "      <th></th>\n",
       "      <th></th>\n",
       "      <th></th>\n",
       "      <th></th>\n",
       "      <th></th>\n",
       "    </tr>\n",
       "  </thead>\n",
       "  <tbody>\n",
       "    <tr>\n",
       "      <th>2009-01-01 01:00:00</th>\n",
       "      <td>996.50</td>\n",
       "      <td>-8.05</td>\n",
       "      <td>265.38</td>\n",
       "      <td>-8.78</td>\n",
       "      <td>94.4</td>\n",
       "      <td>3.33</td>\n",
       "      <td>3.14</td>\n",
       "      <td>0.19</td>\n",
       "      <td>1.96</td>\n",
       "      <td>3.15</td>\n",
       "      <td>1307.86</td>\n",
       "      <td>0.21</td>\n",
       "      <td>0.63</td>\n",
       "      <td>192.7</td>\n",
       "    </tr>\n",
       "    <tr>\n",
       "      <th>2009-01-01 02:00:00</th>\n",
       "      <td>996.62</td>\n",
       "      <td>-8.88</td>\n",
       "      <td>264.54</td>\n",
       "      <td>-9.77</td>\n",
       "      <td>93.2</td>\n",
       "      <td>3.12</td>\n",
       "      <td>2.90</td>\n",
       "      <td>0.21</td>\n",
       "      <td>1.81</td>\n",
       "      <td>2.91</td>\n",
       "      <td>1312.25</td>\n",
       "      <td>0.25</td>\n",
       "      <td>0.63</td>\n",
       "      <td>190.3</td>\n",
       "    </tr>\n",
       "    <tr>\n",
       "      <th>2009-01-01 03:00:00</th>\n",
       "      <td>996.84</td>\n",
       "      <td>-8.81</td>\n",
       "      <td>264.59</td>\n",
       "      <td>-9.66</td>\n",
       "      <td>93.5</td>\n",
       "      <td>3.13</td>\n",
       "      <td>2.93</td>\n",
       "      <td>0.20</td>\n",
       "      <td>1.83</td>\n",
       "      <td>2.94</td>\n",
       "      <td>1312.18</td>\n",
       "      <td>0.18</td>\n",
       "      <td>0.63</td>\n",
       "      <td>167.2</td>\n",
       "    </tr>\n",
       "    <tr>\n",
       "      <th>2009-01-01 04:00:00</th>\n",
       "      <td>996.99</td>\n",
       "      <td>-9.05</td>\n",
       "      <td>264.34</td>\n",
       "      <td>-10.02</td>\n",
       "      <td>92.6</td>\n",
       "      <td>3.07</td>\n",
       "      <td>2.85</td>\n",
       "      <td>0.23</td>\n",
       "      <td>1.78</td>\n",
       "      <td>2.85</td>\n",
       "      <td>1313.61</td>\n",
       "      <td>0.10</td>\n",
       "      <td>0.38</td>\n",
       "      <td>240.0</td>\n",
       "    </tr>\n",
       "    <tr>\n",
       "      <th>2009-01-01 05:00:00</th>\n",
       "      <td>997.46</td>\n",
       "      <td>-9.63</td>\n",
       "      <td>263.72</td>\n",
       "      <td>-10.65</td>\n",
       "      <td>92.2</td>\n",
       "      <td>2.94</td>\n",
       "      <td>2.71</td>\n",
       "      <td>0.23</td>\n",
       "      <td>1.69</td>\n",
       "      <td>2.71</td>\n",
       "      <td>1317.19</td>\n",
       "      <td>0.40</td>\n",
       "      <td>0.88</td>\n",
       "      <td>157.0</td>\n",
       "    </tr>\n",
       "  </tbody>\n",
       "</table>\n",
       "</div>"
      ],
      "text/plain": [
       "                     p (mbar)  T (degC)  Tpot (K)  Tdew (degC)  rh (%)  \\\n",
       "Date Time                                                                \n",
       "2009-01-01 01:00:00    996.50     -8.05    265.38        -8.78    94.4   \n",
       "2009-01-01 02:00:00    996.62     -8.88    264.54        -9.77    93.2   \n",
       "2009-01-01 03:00:00    996.84     -8.81    264.59        -9.66    93.5   \n",
       "2009-01-01 04:00:00    996.99     -9.05    264.34       -10.02    92.6   \n",
       "2009-01-01 05:00:00    997.46     -9.63    263.72       -10.65    92.2   \n",
       "\n",
       "                     VPmax (mbar)  VPact (mbar)  VPdef (mbar)  sh (g/kg)  \\\n",
       "Date Time                                                                  \n",
       "2009-01-01 01:00:00          3.33          3.14          0.19       1.96   \n",
       "2009-01-01 02:00:00          3.12          2.90          0.21       1.81   \n",
       "2009-01-01 03:00:00          3.13          2.93          0.20       1.83   \n",
       "2009-01-01 04:00:00          3.07          2.85          0.23       1.78   \n",
       "2009-01-01 05:00:00          2.94          2.71          0.23       1.69   \n",
       "\n",
       "                     H2OC (mmol/mol)  rho (g/m**3)  wv (m/s)  max. wv (m/s)  \\\n",
       "Date Time                                                                     \n",
       "2009-01-01 01:00:00             3.15       1307.86      0.21           0.63   \n",
       "2009-01-01 02:00:00             2.91       1312.25      0.25           0.63   \n",
       "2009-01-01 03:00:00             2.94       1312.18      0.18           0.63   \n",
       "2009-01-01 04:00:00             2.85       1313.61      0.10           0.38   \n",
       "2009-01-01 05:00:00             2.71       1317.19      0.40           0.88   \n",
       "\n",
       "                     wd (deg)  \n",
       "Date Time                      \n",
       "2009-01-01 01:00:00     192.7  \n",
       "2009-01-01 02:00:00     190.3  \n",
       "2009-01-01 03:00:00     167.2  \n",
       "2009-01-01 04:00:00     240.0  \n",
       "2009-01-01 05:00:00     157.0  "
      ]
     },
     "execution_count": 12,
     "metadata": {},
     "output_type": "execute_result"
    }
   ],
   "source": [
    "df_hourly.head()"
   ]
  },
  {
   "cell_type": "code",
   "execution_count": 13,
   "id": "753024b2",
   "metadata": {},
   "outputs": [
    {
     "data": {
      "text/html": [
       "<div>\n",
       "<style scoped>\n",
       "    .dataframe tbody tr th:only-of-type {\n",
       "        vertical-align: middle;\n",
       "    }\n",
       "\n",
       "    .dataframe tbody tr th {\n",
       "        vertical-align: top;\n",
       "    }\n",
       "\n",
       "    .dataframe thead th {\n",
       "        text-align: right;\n",
       "    }\n",
       "</style>\n",
       "<table border=\"1\" class=\"dataframe\">\n",
       "  <thead>\n",
       "    <tr style=\"text-align: right;\">\n",
       "      <th></th>\n",
       "      <th>p (mbar)</th>\n",
       "      <th>T (degC)</th>\n",
       "      <th>Tpot (K)</th>\n",
       "      <th>Tdew (degC)</th>\n",
       "      <th>rh (%)</th>\n",
       "      <th>VPmax (mbar)</th>\n",
       "      <th>VPact (mbar)</th>\n",
       "      <th>VPdef (mbar)</th>\n",
       "      <th>sh (g/kg)</th>\n",
       "      <th>H2OC (mmol/mol)</th>\n",
       "      <th>rho (g/m**3)</th>\n",
       "      <th>wv (m/s)</th>\n",
       "      <th>max. wv (m/s)</th>\n",
       "      <th>wd (deg)</th>\n",
       "    </tr>\n",
       "    <tr>\n",
       "      <th>Date Time</th>\n",
       "      <th></th>\n",
       "      <th></th>\n",
       "      <th></th>\n",
       "      <th></th>\n",
       "      <th></th>\n",
       "      <th></th>\n",
       "      <th></th>\n",
       "      <th></th>\n",
       "      <th></th>\n",
       "      <th></th>\n",
       "      <th></th>\n",
       "      <th></th>\n",
       "      <th></th>\n",
       "      <th></th>\n",
       "    </tr>\n",
       "  </thead>\n",
       "  <tbody>\n",
       "    <tr>\n",
       "      <th>2016-12-31 20:00:00</th>\n",
       "      <td>1001.47</td>\n",
       "      <td>-1.52</td>\n",
       "      <td>271.52</td>\n",
       "      <td>-7.13</td>\n",
       "      <td>65.42</td>\n",
       "      <td>5.46</td>\n",
       "      <td>3.57</td>\n",
       "      <td>1.89</td>\n",
       "      <td>2.22</td>\n",
       "      <td>3.57</td>\n",
       "      <td>1282.60</td>\n",
       "      <td>1.24</td>\n",
       "      <td>1.96</td>\n",
       "      <td>232.00</td>\n",
       "    </tr>\n",
       "    <tr>\n",
       "      <th>2016-12-31 21:00:00</th>\n",
       "      <td>1001.29</td>\n",
       "      <td>-3.09</td>\n",
       "      <td>269.98</td>\n",
       "      <td>-7.09</td>\n",
       "      <td>73.70</td>\n",
       "      <td>4.86</td>\n",
       "      <td>3.58</td>\n",
       "      <td>1.28</td>\n",
       "      <td>2.23</td>\n",
       "      <td>3.58</td>\n",
       "      <td>1289.78</td>\n",
       "      <td>0.61</td>\n",
       "      <td>1.48</td>\n",
       "      <td>207.50</td>\n",
       "    </tr>\n",
       "    <tr>\n",
       "      <th>2016-12-31 22:00:00</th>\n",
       "      <td>1000.70</td>\n",
       "      <td>-2.59</td>\n",
       "      <td>270.51</td>\n",
       "      <td>-7.04</td>\n",
       "      <td>71.30</td>\n",
       "      <td>5.04</td>\n",
       "      <td>3.60</td>\n",
       "      <td>1.45</td>\n",
       "      <td>2.24</td>\n",
       "      <td>3.59</td>\n",
       "      <td>1286.67</td>\n",
       "      <td>0.38</td>\n",
       "      <td>0.72</td>\n",
       "      <td>8.15</td>\n",
       "    </tr>\n",
       "    <tr>\n",
       "      <th>2016-12-31 23:00:00</th>\n",
       "      <td>1000.21</td>\n",
       "      <td>-3.76</td>\n",
       "      <td>269.39</td>\n",
       "      <td>-7.95</td>\n",
       "      <td>72.50</td>\n",
       "      <td>4.62</td>\n",
       "      <td>3.35</td>\n",
       "      <td>1.27</td>\n",
       "      <td>2.09</td>\n",
       "      <td>3.35</td>\n",
       "      <td>1291.71</td>\n",
       "      <td>0.89</td>\n",
       "      <td>1.30</td>\n",
       "      <td>223.70</td>\n",
       "    </tr>\n",
       "    <tr>\n",
       "      <th>2017-01-01 00:00:00</th>\n",
       "      <td>999.82</td>\n",
       "      <td>-4.82</td>\n",
       "      <td>268.36</td>\n",
       "      <td>-8.42</td>\n",
       "      <td>75.70</td>\n",
       "      <td>4.27</td>\n",
       "      <td>3.23</td>\n",
       "      <td>1.04</td>\n",
       "      <td>2.01</td>\n",
       "      <td>3.23</td>\n",
       "      <td>1296.38</td>\n",
       "      <td>1.23</td>\n",
       "      <td>1.96</td>\n",
       "      <td>184.90</td>\n",
       "    </tr>\n",
       "  </tbody>\n",
       "</table>\n",
       "</div>"
      ],
      "text/plain": [
       "                     p (mbar)  T (degC)  Tpot (K)  Tdew (degC)  rh (%)  \\\n",
       "Date Time                                                                \n",
       "2016-12-31 20:00:00   1001.47     -1.52    271.52        -7.13   65.42   \n",
       "2016-12-31 21:00:00   1001.29     -3.09    269.98        -7.09   73.70   \n",
       "2016-12-31 22:00:00   1000.70     -2.59    270.51        -7.04   71.30   \n",
       "2016-12-31 23:00:00   1000.21     -3.76    269.39        -7.95   72.50   \n",
       "2017-01-01 00:00:00    999.82     -4.82    268.36        -8.42   75.70   \n",
       "\n",
       "                     VPmax (mbar)  VPact (mbar)  VPdef (mbar)  sh (g/kg)  \\\n",
       "Date Time                                                                  \n",
       "2016-12-31 20:00:00          5.46          3.57          1.89       2.22   \n",
       "2016-12-31 21:00:00          4.86          3.58          1.28       2.23   \n",
       "2016-12-31 22:00:00          5.04          3.60          1.45       2.24   \n",
       "2016-12-31 23:00:00          4.62          3.35          1.27       2.09   \n",
       "2017-01-01 00:00:00          4.27          3.23          1.04       2.01   \n",
       "\n",
       "                     H2OC (mmol/mol)  rho (g/m**3)  wv (m/s)  max. wv (m/s)  \\\n",
       "Date Time                                                                     \n",
       "2016-12-31 20:00:00             3.57       1282.60      1.24           1.96   \n",
       "2016-12-31 21:00:00             3.58       1289.78      0.61           1.48   \n",
       "2016-12-31 22:00:00             3.59       1286.67      0.38           0.72   \n",
       "2016-12-31 23:00:00             3.35       1291.71      0.89           1.30   \n",
       "2017-01-01 00:00:00             3.23       1296.38      1.23           1.96   \n",
       "\n",
       "                     wd (deg)  \n",
       "Date Time                      \n",
       "2016-12-31 20:00:00    232.00  \n",
       "2016-12-31 21:00:00    207.50  \n",
       "2016-12-31 22:00:00      8.15  \n",
       "2016-12-31 23:00:00    223.70  \n",
       "2017-01-01 00:00:00    184.90  "
      ]
     },
     "execution_count": 13,
     "metadata": {},
     "output_type": "execute_result"
    }
   ],
   "source": [
    "df_hourly.tail()"
   ]
  },
  {
   "cell_type": "markdown",
   "id": "fa22826a",
   "metadata": {},
   "source": [
    "## 4. Análise exploratória\n",
    "\n",
    "Essa seção objetiva realizar uma análise inicial antes da elaboração dos modelos. Primeiramente foi selecionada a variável a qual se deseja prever:\n",
    "\n",
    "```T (degC)``` (temperatura em graus celsius)."
   ]
  },
  {
   "cell_type": "code",
   "execution_count": 14,
   "id": "42866d46",
   "metadata": {},
   "outputs": [
    {
     "data": {
      "text/plain": [
       "Date Time\n",
       "2009-01-01 01:00:00   -8.05\n",
       "2009-01-01 02:00:00   -8.88\n",
       "2009-01-01 03:00:00   -8.81\n",
       "2009-01-01 04:00:00   -9.05\n",
       "2009-01-01 05:00:00   -9.63\n",
       "                       ... \n",
       "2016-12-31 20:00:00   -1.52\n",
       "2016-12-31 21:00:00   -3.09\n",
       "2016-12-31 22:00:00   -2.59\n",
       "2016-12-31 23:00:00   -3.76\n",
       "2017-01-01 00:00:00   -4.82\n",
       "Name: T (degC), Length: 70037, dtype: float64"
      ]
     },
     "execution_count": 14,
     "metadata": {},
     "output_type": "execute_result"
    }
   ],
   "source": [
    "# série temporal da temperatura\n",
    "\n",
    "temp_horario = df_hourly['T (degC)']\n",
    "temp_horario"
   ]
  },
  {
   "cell_type": "code",
   "execution_count": 15,
   "id": "3b1dc2c2",
   "metadata": {},
   "outputs": [
    {
     "data": {
      "image/png": "[encoded data removed]",
      "text/plain": [
       "<Figure size 432x288 with 1 Axes>"
      ]
     },
     "metadata": {
      "needs_background": "light"
     },
     "output_type": "display_data"
    }
   ],
   "source": [
    "# histograma da série\n",
    "\n",
    "plt.hist(temp_horario)\n",
    "plt.title('Histograma da variável temperatura - T (degC)')\n",
    "plt.savefig('images/hist.png', facecolor='w')\n",
    "plt.show()"
   ]
  },
  {
   "cell_type": "code",
   "execution_count": 16,
   "id": "a520d4b6",
   "metadata": {},
   "outputs": [
    {
     "data": {
      "image/png": "[encoded data removed]",
      "text/plain": [
       "<Figure size 432x288 with 1 Axes>"
      ]
     },
     "metadata": {
      "needs_background": "light"
     },
     "output_type": "display_data"
    }
   ],
   "source": [
    "# plotagem da série temporal\n",
    "\n",
    "plt.plot(temp_horario)\n",
    "plt.title('Temperatura ao longo do tempo (por hora)')\n",
    "plt.ylabel('T (degC)')\n",
    "plt.savefig('images/plot.png', facecolor='w')\n",
    "plt.show()"
   ]
  },
  {
   "cell_type": "markdown",
   "id": "9b192570",
   "metadata": {},
   "source": [
    "Analisando preliminarmente, a série aparenta ter distribuição normal e ser estacionária"
   ]
  },
  {
   "cell_type": "code",
   "execution_count": 17,
   "id": "91858fce",
   "metadata": {},
   "outputs": [
    {
     "data": {
      "image/png": "[encoded data removed]",
      "text/plain": [
       "<Figure size 432x288 with 1 Axes>"
      ]
     },
     "metadata": {
      "needs_background": "light"
     },
     "output_type": "display_data"
    }
   ],
   "source": [
    "# série redimensionada para a frequência diária\n",
    "\n",
    "temp_diario = temp_horario.resample('1D').mean().interpolate('linear')\n",
    "\n",
    "plt.title('Temperatura ao longo do tempo (média diária)')\n",
    "plt.ylabel('T (degC)')\n",
    "plt.plot(temp_diario[0:365])\n",
    "plt.savefig('images/plot_daily.png', facecolor='w')\n",
    "plt.show()"
   ]
  },
  {
   "cell_type": "code",
   "execution_count": 18,
   "id": "3542eec1",
   "metadata": {},
   "outputs": [
    {
     "data": {
      "image/png": "[encoded data removed]",
      "text/plain": [
       "<Figure size 432x288 with 4 Axes>"
      ]
     },
     "metadata": {
      "needs_background": "light"
     },
     "output_type": "display_data"
    }
   ],
   "source": [
    "# decomposição sazonal da série na frequência diária\n",
    "\n",
    "from statsmodels.tsa.seasonal import seasonal_decompose\n",
    "\n",
    "decomposicao = seasonal_decompose(temp_diario, period=365)\n",
    "decomposicao.plot()\n",
    "plt.savefig('images/decompose.png', facecolor='w')\n",
    "plt.show()"
   ]
  },
  {
   "cell_type": "markdown",
   "id": "3a40a445",
   "metadata": {},
   "source": [
    "**Interpretação:**\n",
    "\n",
    "**Tendência - Trend**\n",
    "\n",
    "A tendência representa a direção geral da série ao longo de um período de tempo. Dessa forma, observa-se que a série tem uma tendência de alta no período de analisado, mas se encontra na faixa entre 7.5 e 10.0.\n",
    "\n",
    "**Sazonalidade - Seasonal**\n",
    "\n",
    "A sazonalidade retrata um padrão distinto e repetitivo em intervalos de tempo regulares resultante de vários fatores sazonais. Nesse contexto, nota-se que a série possui um padrão de alta seguido por uma baixa no intervalo anual.\n",
    "\n",
    "**Residual - Resid**\n",
    "\n",
    "O residual corresponde ao componente irregular presente nas flutuações da série após a remoção dos componentes anteriores."
   ]
  },
  {
   "cell_type": "markdown",
   "id": "ed2e7e83",
   "metadata": {},
   "source": [
    "### Teste de Dickey Fuller e KPSS\n",
    "\n",
    "Para determinar se a série é estacionária, isto é, se a sua média e variância são constantes durante o tempo, foram utilizados os testes de (Augmented) Dickey Fuller e KPSS.\n",
    "\n",
    "O teste **Augmented Dickey-Fuller (ADF)** é conhecido por teste de raiz unitária, a qual é a causa para a não estacionariedade:\n",
    "\n",
    "```Hipótese nula (H0): A série temporal possui raiz unitária e não é estacionária```\n",
    "\n",
    "```Hipótese alternativa (H1): A série temporal não possui raiz unitária e é estacionária```\n",
    "\n",
    "Foi especificado o nível de significância em 5% e a hipótese nula é rejeitada (série estacionária) se o valor-P < 0.05\n",
    "\n",
    "O teste **KPSS** objetiva reduzir a incerteza do teste ADF:\n",
    "\n",
    "```Hipótese nula (H0): A série temporal é estacionária (oposto ao ADF)```\n",
    "\n",
    "```Hipótese alternativa (H1): A série temporal não é estacionária```\n",
    "\n",
    "Foi especificado o nível de significância em 5% e a hipótese alternativa é rejeitada (série estacionária) se o valor-P > 0.05"
   ]
  },
  {
   "cell_type": "code",
   "execution_count": 19,
   "id": "bb4854dc",
   "metadata": {},
   "outputs": [],
   "source": [
    "from statsmodels.tsa.stattools import adfuller, kpss"
   ]
  },
  {
   "cell_type": "code",
   "execution_count": 20,
   "id": "057ea75e",
   "metadata": {
    "scrolled": true
   },
   "outputs": [
    {
     "name": "stdout",
     "output_type": "stream",
     "text": [
      "Teste Estatistico Dickey Fuller      -3.5847\n",
      "Valor-P                               0.0061\n",
      "Lags Usados                          18.0000\n",
      "Número de observações usadas       2904.0000\n",
      "Valores Críticos (1%)                -3.4326\n",
      "Valores Críticos (5%)                -2.8625\n",
      "Valores Críticos (10%)               -2.5673\n",
      "dtype: float64\n",
      "\n",
      "Resultado: A série temporal é estacionária\n"
     ]
    }
   ],
   "source": [
    "def adf_test(series):\n",
    "    \n",
    "    dftest = adfuller(series, autolag='AIC')\n",
    "    \n",
    "    p_value = dftest[1]\n",
    "    \n",
    "    adf = pd.Series(dftest[0:4], index=['Teste Estatistico Dickey Fuller','Valor-P',\n",
    "                                          'Lags Usados','Número de observações usadas'])\n",
    "    \n",
    "    adf = round(adf, 4)\n",
    "    \n",
    "    for k, v in dftest[4].items():\n",
    "        adf[\"Valores Críticos (%s)\" % k] = v.round(4) \n",
    "        \n",
    "    print(adf)\n",
    "    \n",
    "    print(f'\\nResultado: A série temporal {\"não\" if p_value > 0.05 else \"\"}é estacionária')\n",
    "    \n",
    "adf_test(temp_diario)"
   ]
  },
  {
   "cell_type": "code",
   "execution_count": 21,
   "id": "3d58941b",
   "metadata": {},
   "outputs": [
    {
     "name": "stdout",
     "output_type": "stream",
     "text": [
      "Teste Statistico KPSS       0.2011\n",
      "Valor-P                     0.1000\n",
      "Lags utilizados            31.0000\n",
      "Valores Críticos (10%)      0.3470\n",
      "Valores Críticos (5%)       0.4630\n",
      "Valores Críticos (2.5%)     0.5740\n",
      "Valores Críticos (1%)       0.7390\n",
      "dtype: float64\n",
      "\n",
      "Resultado: A série temporal é estacionária\n"
     ]
    },
    {
     "name": "stderr",
     "output_type": "stream",
     "text": [
      "C:\\Users\\Tulio\\anaconda3\\lib\\site-packages\\statsmodels\\tsa\\stattools.py:2022: InterpolationWarning: The test statistic is outside of the range of p-values available in the\n",
      "look-up table. The actual p-value is greater than the p-value returned.\n",
      "\n",
      "  warnings.warn(\n"
     ]
    }
   ],
   "source": [
    "def kpss_test(series, **kw):\n",
    "    \n",
    "    kpss_test_ = kpss(series, **kw)\n",
    "    \n",
    "    p_value = kpss_test_[1]\n",
    "      \n",
    "    kpss_ = pd.Series(kpss_test_[0:3], index=['Teste Statistico KPSS', 'Valor-P', 'Lags utilizados'])\n",
    "    \n",
    "    kpss_ = round(kpss_,4)\n",
    "    \n",
    "    for k, v in kpss_test_[3].items():\n",
    "        kpss_[\"Valores Críticos (%s)\" % k] = v \n",
    "    \n",
    "    print(kpss_)\n",
    "     \n",
    "    print(f'\\nResultado: A série temporal {\"não\" if p_value < 0.05 else \"\"}é estacionária')\n",
    "\n",
    "kpss_test(temp_diario)"
   ]
  },
  {
   "cell_type": "markdown",
   "id": "afb2705a",
   "metadata": {},
   "source": [
    "Os testes estatísticos Dickey Fuller e KPSS indicaram que a série é estacionária, isto é:\n",
    "\n",
    "```Dickey Fuller (H1): p_value > 0.05```\n",
    "\n",
    "```KPSS (H0): p_value < 0.05```"
   ]
  },
  {
   "cell_type": "markdown",
   "id": "51a0092e",
   "metadata": {},
   "source": [
    "## 5. Modelagem"
   ]
  },
  {
   "cell_type": "markdown",
   "id": "6ca1ffeb",
   "metadata": {},
   "source": [
    "Para realizar a previsão de valores da série temporal foram utilizadas as Redes Neurais Artificiais recorrentes (RNN), em específico as Redes de Memória de Curto Prazo Longo ou **LSTM** (Long Short-Term Memory), por se tratar de um algoritmo adequado para previsão de séries temporais e ser capaz de aprender dependências de longo prazo.\n",
    "\n",
    "Nesse contexto, antes de elaborar o modelo propriamente dito, se faz necessário fazer a transformação dos dados, os quais servirão como entrada no modelo.\n",
    "\n",
    "A transformação dos dados será dividida em 3 etapas, quais sejam:\n",
    "\n",
    "   1. Transformar as séries temporais num problema de aprendizagem supervisionado, isto é, será criada a entrada (X) e a saída (y) (ou label) da série.\n",
    "    \n",
    "   2. Definição dos conjuntos de treinamento, validação e teste."
   ]
  },
  {
   "cell_type": "markdown",
   "id": "d21fbe74",
   "metadata": {},
   "source": [
    "### 5.1 Transformação dos dados\n",
    "     \n",
    "Inicialmente, foi desenvolvida uma função para obter o X (input) e o y (output). Essa função considerou uma janela consecutiva de 5 observações, as quais foram utilizadas para prever o y com um intervalo de 24 horas (OFFSET) após a última observação da \"janela\", conforme exemplificado abaixo:\n",
    "     \n",
    "        X = [[1],\n",
    "             [2],\n",
    "             [3],\n",
    "             [4],\n",
    "             [5]],\n",
    "            \n",
    "            [[2],\n",
    "             [3],\n",
    "             [4],\n",
    "             [5],\n",
    "             [6]],\n",
    "             \n",
    "             .\n",
    "             .\n",
    "             .\n",
    "\n",
    "        y = [[5 + 24],\n",
    "             [6 + 24]],\n",
    "             \n",
    "             .\n",
    "             .\n",
    "             .\n",
    "\n",
    "Como a série foi caracterizada anteriormente como estacionária, não foi necessário escalar os valores da série. Definição dos conjuntos de treino (70%), de validação (20%) e de teste (10%)."
   ]
  },
  {
   "cell_type": "code",
   "execution_count": 22,
   "id": "a226cf4b",
   "metadata": {},
   "outputs": [],
   "source": [
    "# função para transformar a série em X e y\n",
    "\n",
    "def generator(data, window, offset):\n",
    "    \n",
    "    gen = data.to_numpy()\n",
    "    \n",
    "    X = []\n",
    "    \n",
    "    y = []\n",
    "    \n",
    "    for i in range(len(gen) - window - offset):\n",
    "        \n",
    "        row = [[a] for a in gen[i:i + window]]\n",
    "        \n",
    "        X.append(row)\n",
    "        \n",
    "        label = gen[i + window + offset - 1]\n",
    "        \n",
    "        y.append(label)\n",
    "        \n",
    "    return np.array(X), np.array(y)"
   ]
  },
  {
   "cell_type": "code",
   "execution_count": 23,
   "id": "36409913",
   "metadata": {},
   "outputs": [
    {
     "data": {
      "text/plain": [
       "((70008, 5, 1), (70008,))"
      ]
     },
     "execution_count": 23,
     "metadata": {},
     "output_type": "execute_result"
    }
   ],
   "source": [
    "# janela de observações utilizada para a previsão\n",
    "WINDOW = 5 \n",
    "\n",
    "# intervalo de tempo que se deseja prever\n",
    "OFFSET = 24\n",
    "\n",
    "X, y = generator(temp_horario, WINDOW, OFFSET)\n",
    "\n",
    "X.shape, y.shape"
   ]
  },
  {
   "cell_type": "code",
   "execution_count": 24,
   "id": "f9c20b2a",
   "metadata": {},
   "outputs": [
    {
     "data": {
      "text/plain": [
       "(array([[-8.05],\n",
       "        [-8.88],\n",
       "        [-8.81],\n",
       "        [-9.05],\n",
       "        [-9.63]]),\n",
       " -4.96)"
      ]
     },
     "execution_count": 24,
     "metadata": {},
     "output_type": "execute_result"
    }
   ],
   "source": [
    "X[0], y[0]"
   ]
  },
  {
   "cell_type": "code",
   "execution_count": 25,
   "id": "51eb1ee6",
   "metadata": {},
   "outputs": [
    {
     "data": {
      "text/plain": [
       "((49005, 5, 1), (49005,))"
      ]
     },
     "execution_count": 25,
     "metadata": {},
     "output_type": "execute_result"
    }
   ],
   "source": [
    "# definição dos conjuntos de treino, validação e teste\n",
    "n = X.shape[0]\n",
    "\n",
    "X_train, y_train = X[:int(n * 0.7)], y[:int(n * 0.7)]\n",
    "X_val, y_val = X[int(n * 0.7):int(n * 0.9)], y[int(n * 0.7):int(n * 0.9)]\n",
    "X_test, y_test = X[int(n * 0.9):], y[int(n * 0.9):]\n",
    "\n",
    "X_train.shape, y_train.shape"
   ]
  },
  {
   "cell_type": "code",
   "execution_count": 26,
   "id": "f3f05d22",
   "metadata": {},
   "outputs": [
    {
     "data": {
      "text/plain": [
       "((14002, 5, 1), (14002,))"
      ]
     },
     "execution_count": 26,
     "metadata": {},
     "output_type": "execute_result"
    }
   ],
   "source": [
    "X_val.shape, y_val.shape"
   ]
  },
  {
   "cell_type": "code",
   "execution_count": 27,
   "id": "dd056e11",
   "metadata": {},
   "outputs": [
    {
     "data": {
      "text/plain": [
       "((7001, 5, 1), (7001,))"
      ]
     },
     "execution_count": 27,
     "metadata": {},
     "output_type": "execute_result"
    }
   ],
   "source": [
    "X_test.shape, y_test.shape"
   ]
  },
  {
   "cell_type": "markdown",
   "id": "f02d68d3",
   "metadata": {},
   "source": [
    "### 5.2 Modelo LSTM"
   ]
  },
  {
   "cell_type": "code",
   "execution_count": 28,
   "id": "e5593b6e",
   "metadata": {},
   "outputs": [],
   "source": [
    "from keras.models import Sequential\n",
    "from keras.layers import *\n",
    "from keras.callbacks import ModelCheckpoint, EarlyStopping\n",
    "from keras.losses import MeanSquaredError\n",
    "from keras.metrics import MeanAbsoluteError\n",
    "from keras.callbacks import ModelCheckpoint\n",
    "from tensorflow.keras.optimizers import Adam\n",
    "\n",
    "import absl.logging\n",
    "absl.logging.set_verbosity(absl.logging.ERROR)"
   ]
  },
  {
   "cell_type": "code",
   "execution_count": 29,
   "id": "4374a36b",
   "metadata": {},
   "outputs": [
    {
     "name": "stdout",
     "output_type": "stream",
     "text": [
      "Model: \"sequential\"\n",
      "_________________________________________________________________\n",
      " Layer (type)                Output Shape              Param #   \n",
      "=================================================================\n",
      " lstm (LSTM)                 (None, 32)                4352      \n",
      "                                                                 \n",
      " dense (Dense)               (None, 8)                 264       \n",
      "                                                                 \n",
      " dense_1 (Dense)             (None, 1)                 9         \n",
      "                                                                 \n",
      "=================================================================\n",
      "Total params: 4,625\n",
      "Trainable params: 4,625\n",
      "Non-trainable params: 0\n",
      "_________________________________________________________________\n"
     ]
    }
   ],
   "source": [
    "# modelo LSTM\n",
    "\n",
    "model = Sequential()\n",
    "model.add(InputLayer((WINDOW, 1)))\n",
    "model.add(LSTM(32))\n",
    "model.add(Dense(8, 'relu'))\n",
    "model.add(Dense(1, 'linear'))\n",
    "\n",
    "model.summary()"
   ]
  },
  {
   "cell_type": "code",
   "execution_count": 30,
   "id": "7d61002a",
   "metadata": {},
   "outputs": [],
   "source": [
    "cp = ModelCheckpoint('model/', save_best_only=True)\n",
    "\n",
    "early_stopping = EarlyStopping(monitor='val_loss', patience=2, mode='min')\n",
    "\n",
    "model.compile(loss=MeanSquaredError(), optimizer=Adam(learning_rate=0.0001), metrics=[MeanAbsoluteError()])"
   ]
  },
  {
   "cell_type": "code",
   "execution_count": 31,
   "id": "daa02b27",
   "metadata": {},
   "outputs": [
    {
     "name": "stdout",
     "output_type": "stream",
     "text": [
      "Epoch 1/20\n",
      "1531/1532 [============================>.] - ETA: 0s - loss: 95.0722 - mean_absolute_error: 7.5563INFO:tensorflow:Assets written to: model\\assets\n"
     ]
    },
    {
     "name": "stderr",
     "output_type": "stream",
     "text": [
      "INFO:tensorflow:Assets written to: model\\assets\n"
     ]
    },
    {
     "name": "stdout",
     "output_type": "stream",
     "text": [
      "1532/1532 [==============================] - 19s 11ms/step - loss: 95.0596 - mean_absolute_error: 7.5556 - val_loss: 39.1406 - val_mean_absolute_error: 4.5659\n",
      "Epoch 2/20\n",
      "1527/1532 [============================>.] - ETA: 0s - loss: 25.6485 - mean_absolute_error: 3.7090INFO:tensorflow:Assets written to: model\\assets\n"
     ]
    },
    {
     "name": "stderr",
     "output_type": "stream",
     "text": [
      "INFO:tensorflow:Assets written to: model\\assets\n"
     ]
    },
    {
     "name": "stdout",
     "output_type": "stream",
     "text": [
      "1532/1532 [==============================] - 13s 9ms/step - loss: 25.6188 - mean_absolute_error: 3.7070 - val_loss: 16.3578 - val_mean_absolute_error: 2.9444\n",
      "Epoch 3/20\n",
      "1532/1532 [==============================] - ETA: 0s - loss: 13.7552 - mean_absolute_error: 2.8206INFO:tensorflow:Assets written to: model\\assets\n"
     ]
    },
    {
     "name": "stderr",
     "output_type": "stream",
     "text": [
      "INFO:tensorflow:Assets written to: model\\assets\n"
     ]
    },
    {
     "name": "stdout",
     "output_type": "stream",
     "text": [
      "1532/1532 [==============================] - 12s 8ms/step - loss: 13.7552 - mean_absolute_error: 2.8206 - val_loss: 12.8010 - val_mean_absolute_error: 2.7016\n",
      "Epoch 4/20\n",
      "1523/1532 [============================>.] - ETA: 0s - loss: 11.7770 - mean_absolute_error: 2.6577INFO:tensorflow:Assets written to: model\\assets\n"
     ]
    },
    {
     "name": "stderr",
     "output_type": "stream",
     "text": [
      "INFO:tensorflow:Assets written to: model\\assets\n"
     ]
    },
    {
     "name": "stdout",
     "output_type": "stream",
     "text": [
      "1532/1532 [==============================] - 12s 8ms/step - loss: 11.7714 - mean_absolute_error: 2.6569 - val_loss: 11.8975 - val_mean_absolute_error: 2.6453\n",
      "Epoch 5/20\n",
      "1526/1532 [============================>.] - ETA: 0s - loss: 11.3055 - mean_absolute_error: 2.6174INFO:tensorflow:Assets written to: model\\assets\n"
     ]
    },
    {
     "name": "stderr",
     "output_type": "stream",
     "text": [
      "INFO:tensorflow:Assets written to: model\\assets\n"
     ]
    },
    {
     "name": "stdout",
     "output_type": "stream",
     "text": [
      "1532/1532 [==============================] - 12s 8ms/step - loss: 11.3130 - mean_absolute_error: 2.6186 - val_loss: 11.5855 - val_mean_absolute_error: 2.6223\n",
      "Epoch 6/20\n",
      "1518/1532 [============================>.] - ETA: 0s - loss: 11.1559 - mean_absolute_error: 2.6035INFO:tensorflow:Assets written to: model\\assets\n"
     ]
    },
    {
     "name": "stderr",
     "output_type": "stream",
     "text": [
      "INFO:tensorflow:Assets written to: model\\assets\n"
     ]
    },
    {
     "name": "stdout",
     "output_type": "stream",
     "text": [
      "1532/1532 [==============================] - 13s 8ms/step - loss: 11.1720 - mean_absolute_error: 2.6053 - val_loss: 11.5111 - val_mean_absolute_error: 2.6162\n",
      "Epoch 7/20\n",
      "1530/1532 [============================>.] - ETA: 0s - loss: 11.1055 - mean_absolute_error: 2.5983INFO:tensorflow:Assets written to: model\\assets\n"
     ]
    },
    {
     "name": "stderr",
     "output_type": "stream",
     "text": [
      "INFO:tensorflow:Assets written to: model\\assets\n"
     ]
    },
    {
     "name": "stdout",
     "output_type": "stream",
     "text": [
      "1532/1532 [==============================] - 11s 7ms/step - loss: 11.1040 - mean_absolute_error: 2.5982 - val_loss: 11.4761 - val_mean_absolute_error: 2.6124\n",
      "Epoch 8/20\n",
      "1529/1532 [============================>.] - ETA: 0s - loss: 11.0750 - mean_absolute_error: 2.5948INFO:tensorflow:Assets written to: model\\assets\n"
     ]
    },
    {
     "name": "stderr",
     "output_type": "stream",
     "text": [
      "INFO:tensorflow:Assets written to: model\\assets\n"
     ]
    },
    {
     "name": "stdout",
     "output_type": "stream",
     "text": [
      "1532/1532 [==============================] - 12s 8ms/step - loss: 11.0759 - mean_absolute_error: 2.5949 - val_loss: 11.4395 - val_mean_absolute_error: 2.6087\n",
      "Epoch 9/20\n",
      "1532/1532 [==============================] - 7s 4ms/step - loss: 11.0533 - mean_absolute_error: 2.5919 - val_loss: 11.4500 - val_mean_absolute_error: 2.6142\n",
      "Epoch 10/20\n",
      "1522/1532 [============================>.] - ETA: 0s - loss: 11.0441 - mean_absolute_error: 2.5909INFO:tensorflow:Assets written to: model\\assets\n"
     ]
    },
    {
     "name": "stderr",
     "output_type": "stream",
     "text": [
      "INFO:tensorflow:Assets written to: model\\assets\n"
     ]
    },
    {
     "name": "stdout",
     "output_type": "stream",
     "text": [
      "1532/1532 [==============================] - 11s 7ms/step - loss: 11.0395 - mean_absolute_error: 2.5906 - val_loss: 11.4225 - val_mean_absolute_error: 2.6077\n",
      "Epoch 11/20\n",
      "1532/1532 [==============================] - 7s 5ms/step - loss: 11.0297 - mean_absolute_error: 2.5886 - val_loss: 11.4289 - val_mean_absolute_error: 2.6100\n",
      "Epoch 12/20\n",
      "1532/1532 [==============================] - ETA: 0s - loss: 11.0183 - mean_absolute_error: 2.5882INFO:tensorflow:Assets written to: model\\assets\n"
     ]
    },
    {
     "name": "stderr",
     "output_type": "stream",
     "text": [
      "INFO:tensorflow:Assets written to: model\\assets\n"
     ]
    },
    {
     "name": "stdout",
     "output_type": "stream",
     "text": [
      "1532/1532 [==============================] - 12s 8ms/step - loss: 11.0183 - mean_absolute_error: 2.5882 - val_loss: 11.3673 - val_mean_absolute_error: 2.6032\n",
      "Epoch 13/20\n",
      "1530/1532 [============================>.] - ETA: 0s - loss: 11.0194 - mean_absolute_error: 2.5873INFO:tensorflow:Assets written to: model\\assets\n"
     ]
    },
    {
     "name": "stderr",
     "output_type": "stream",
     "text": [
      "INFO:tensorflow:Assets written to: model\\assets\n"
     ]
    },
    {
     "name": "stdout",
     "output_type": "stream",
     "text": [
      "1532/1532 [==============================] - 13s 8ms/step - loss: 11.0145 - mean_absolute_error: 2.5866 - val_loss: 11.3460 - val_mean_absolute_error: 2.6020\n",
      "Epoch 14/20\n",
      "1532/1532 [==============================] - 7s 5ms/step - loss: 11.0063 - mean_absolute_error: 2.5858 - val_loss: 11.3754 - val_mean_absolute_error: 2.6048\n",
      "Epoch 15/20\n",
      "1532/1532 [==============================] - 7s 4ms/step - loss: 10.9990 - mean_absolute_error: 2.5845 - val_loss: 11.3820 - val_mean_absolute_error: 2.6027\n"
     ]
    },
    {
     "data": {
      "text/plain": [
       "<keras.callbacks.History at 0x2558e62bac0>"
      ]
     },
     "execution_count": 31,
     "metadata": {},
     "output_type": "execute_result"
    }
   ],
   "source": [
    "model.fit(X_train, y_train, validation_data=(X_val, y_val), epochs=20, callbacks=[cp, early_stopping])"
   ]
  },
  {
   "cell_type": "markdown",
   "id": "65285d57",
   "metadata": {},
   "source": [
    "## 6. Resultados\n",
    "\n",
    "Nessa seção, o modelo é importado e são realizadas as predições utilizando o ```X_test```.Como foi utilizado o parâmetro \"offset\" na transformação nos dados, o resultado da predição precisa ser \"deslocado para trás\" na mesma medida do offset (-24) para as suas observações coincidirem com as respectivas observações reais presentes no ```y_test```."
   ]
  },
  {
   "cell_type": "code",
   "execution_count": 32,
   "id": "1d64e85b",
   "metadata": {},
   "outputs": [],
   "source": [
    "from keras.models import load_model\n",
    "\n",
    "model = load_model('model/')"
   ]
  },
  {
   "cell_type": "code",
   "execution_count": 33,
   "id": "7ddf6a4a",
   "metadata": {},
   "outputs": [
    {
     "name": "stdout",
     "output_type": "stream",
     "text": [
      "219/219 [==============================] - 1s 2ms/step\n"
     ]
    }
   ],
   "source": [
    "test_predictions = model.predict(X_test).flatten()\n",
    "\n",
    "result = pd.DataFrame(data={'Predito': test_predictions, 'Real': y_test})"
   ]
  },
  {
   "cell_type": "code",
   "execution_count": 34,
   "id": "921efd1f",
   "metadata": {},
   "outputs": [
    {
     "data": {
      "text/html": [
       "<div>\n",
       "<style scoped>\n",
       "    .dataframe tbody tr th:only-of-type {\n",
       "        vertical-align: middle;\n",
       "    }\n",
       "\n",
       "    .dataframe tbody tr th {\n",
       "        vertical-align: top;\n",
       "    }\n",
       "\n",
       "    .dataframe thead th {\n",
       "        text-align: right;\n",
       "    }\n",
       "</style>\n",
       "<table border=\"1\" class=\"dataframe\">\n",
       "  <thead>\n",
       "    <tr style=\"text-align: right;\">\n",
       "      <th></th>\n",
       "      <th>Predito</th>\n",
       "      <th>Real</th>\n",
       "    </tr>\n",
       "  </thead>\n",
       "  <tbody>\n",
       "    <tr>\n",
       "      <th>0</th>\n",
       "      <td>2.027424</td>\n",
       "      <td>1.62</td>\n",
       "    </tr>\n",
       "    <tr>\n",
       "      <th>1</th>\n",
       "      <td>1.983829</td>\n",
       "      <td>1.58</td>\n",
       "    </tr>\n",
       "    <tr>\n",
       "      <th>2</th>\n",
       "      <td>1.923424</td>\n",
       "      <td>1.51</td>\n",
       "    </tr>\n",
       "    <tr>\n",
       "      <th>3</th>\n",
       "      <td>1.876009</td>\n",
       "      <td>1.46</td>\n",
       "    </tr>\n",
       "    <tr>\n",
       "      <th>4</th>\n",
       "      <td>2.008812</td>\n",
       "      <td>1.68</td>\n",
       "    </tr>\n",
       "    <tr>\n",
       "      <th>...</th>\n",
       "      <td>...</td>\n",
       "      <td>...</td>\n",
       "    </tr>\n",
       "    <tr>\n",
       "      <th>6996</th>\n",
       "      <td>NaN</td>\n",
       "      <td>-1.03</td>\n",
       "    </tr>\n",
       "    <tr>\n",
       "      <th>6997</th>\n",
       "      <td>NaN</td>\n",
       "      <td>-1.52</td>\n",
       "    </tr>\n",
       "    <tr>\n",
       "      <th>6998</th>\n",
       "      <td>NaN</td>\n",
       "      <td>-3.09</td>\n",
       "    </tr>\n",
       "    <tr>\n",
       "      <th>6999</th>\n",
       "      <td>NaN</td>\n",
       "      <td>-2.59</td>\n",
       "    </tr>\n",
       "    <tr>\n",
       "      <th>7000</th>\n",
       "      <td>NaN</td>\n",
       "      <td>-3.76</td>\n",
       "    </tr>\n",
       "  </tbody>\n",
       "</table>\n",
       "<p>7001 rows × 2 columns</p>\n",
       "</div>"
      ],
      "text/plain": [
       "       Predito  Real\n",
       "0     2.027424  1.62\n",
       "1     1.983829  1.58\n",
       "2     1.923424  1.51\n",
       "3     1.876009  1.46\n",
       "4     2.008812  1.68\n",
       "...        ...   ...\n",
       "6996       NaN -1.03\n",
       "6997       NaN -1.52\n",
       "6998       NaN -3.09\n",
       "6999       NaN -2.59\n",
       "7000       NaN -3.76\n",
       "\n",
       "[7001 rows x 2 columns]"
      ]
     },
     "execution_count": 34,
     "metadata": {},
     "output_type": "execute_result"
    }
   ],
   "source": [
    "result['Predito'] = result['Predito'].shift(-OFFSET)\n",
    "result"
   ]
  },
  {
   "cell_type": "code",
   "execution_count": 35,
   "id": "04a048de",
   "metadata": {},
   "outputs": [
    {
     "data": {
      "image/png": "[encoded data removed]",
      "text/plain": [
       "<Figure size 1152x576 with 1 Axes>"
      ]
     },
     "metadata": {
      "needs_background": "light"
     },
     "output_type": "display_data"
    }
   ],
   "source": [
    "fig, ax = plt.subplots(figsize=(16,8))\n",
    "\n",
    "ax.set_title('Gráfico Predito x Real', fontsize=15)\n",
    "ax.set_xlabel('Ocorrência', fontsize=11)\n",
    "ax.set_ylabel('T (degC)', fontsize=11)\n",
    "\n",
    "ax.plot(result['Predito'][:200], '-g', label='Predito')\n",
    "ax.plot(result['Real'][:200], '-r', label='Real')\n",
    "ax.legend(loc='best')\n",
    "plt.savefig('images/preditoXreal.png', facecolor='w')\n",
    "plt.show()"
   ]
  },
  {
   "cell_type": "markdown",
   "id": "12d84a0c",
   "metadata": {},
   "source": [
    "Pode-se notar visualmente que a predição realizada pelo modelo ficou próxima ao valor real e que o modelo conseguiu identificar os momentos de alta e de baixa."
   ]
  },
  {
   "cell_type": "code",
   "execution_count": 36,
   "id": "54629d0d",
   "metadata": {},
   "outputs": [
    {
     "data": {
      "text/html": [
       "<div>\n",
       "<style scoped>\n",
       "    .dataframe tbody tr th:only-of-type {\n",
       "        vertical-align: middle;\n",
       "    }\n",
       "\n",
       "    .dataframe tbody tr th {\n",
       "        vertical-align: top;\n",
       "    }\n",
       "\n",
       "    .dataframe thead th {\n",
       "        text-align: right;\n",
       "    }\n",
       "</style>\n",
       "<table border=\"1\" class=\"dataframe\">\n",
       "  <thead>\n",
       "    <tr style=\"text-align: right;\">\n",
       "      <th></th>\n",
       "      <th>Predito</th>\n",
       "      <th>Real</th>\n",
       "    </tr>\n",
       "  </thead>\n",
       "  <tbody>\n",
       "    <tr>\n",
       "      <th>0</th>\n",
       "      <td>2.027424</td>\n",
       "      <td>1.62</td>\n",
       "    </tr>\n",
       "    <tr>\n",
       "      <th>1</th>\n",
       "      <td>1.983829</td>\n",
       "      <td>1.58</td>\n",
       "    </tr>\n",
       "    <tr>\n",
       "      <th>2</th>\n",
       "      <td>1.923424</td>\n",
       "      <td>1.51</td>\n",
       "    </tr>\n",
       "    <tr>\n",
       "      <th>3</th>\n",
       "      <td>1.876009</td>\n",
       "      <td>1.46</td>\n",
       "    </tr>\n",
       "    <tr>\n",
       "      <th>4</th>\n",
       "      <td>2.008812</td>\n",
       "      <td>1.68</td>\n",
       "    </tr>\n",
       "    <tr>\n",
       "      <th>...</th>\n",
       "      <td>...</td>\n",
       "      <td>...</td>\n",
       "    </tr>\n",
       "    <tr>\n",
       "      <th>6972</th>\n",
       "      <td>1.159637</td>\n",
       "      <td>-0.55</td>\n",
       "    </tr>\n",
       "    <tr>\n",
       "      <th>6973</th>\n",
       "      <td>-0.076732</td>\n",
       "      <td>-1.80</td>\n",
       "    </tr>\n",
       "    <tr>\n",
       "      <th>6974</th>\n",
       "      <td>-0.926566</td>\n",
       "      <td>-2.21</td>\n",
       "    </tr>\n",
       "    <tr>\n",
       "      <th>6975</th>\n",
       "      <td>-1.762540</td>\n",
       "      <td>-2.63</td>\n",
       "    </tr>\n",
       "    <tr>\n",
       "      <th>6976</th>\n",
       "      <td>-2.407739</td>\n",
       "      <td>-2.98</td>\n",
       "    </tr>\n",
       "  </tbody>\n",
       "</table>\n",
       "<p>6977 rows × 2 columns</p>\n",
       "</div>"
      ],
      "text/plain": [
       "       Predito  Real\n",
       "0     2.027424  1.62\n",
       "1     1.983829  1.58\n",
       "2     1.923424  1.51\n",
       "3     1.876009  1.46\n",
       "4     2.008812  1.68\n",
       "...        ...   ...\n",
       "6972  1.159637 -0.55\n",
       "6973 -0.076732 -1.80\n",
       "6974 -0.926566 -2.21\n",
       "6975 -1.762540 -2.63\n",
       "6976 -2.407739 -2.98\n",
       "\n",
       "[6977 rows x 2 columns]"
      ]
     },
     "execution_count": 36,
     "metadata": {},
     "output_type": "execute_result"
    }
   ],
   "source": [
    "# Dropping last n rows using drop\n",
    "result.drop(result.tail(OFFSET).index, inplace=True)\n",
    "result"
   ]
  },
  {
   "cell_type": "code",
   "execution_count": 37,
   "id": "bdc2bc16",
   "metadata": {},
   "outputs": [
    {
     "name": "stdout",
     "output_type": "stream",
     "text": [
      "Root Mean Squared Error: 0.9075081756688319\n",
      "Coeficiente de Determinação: 0.9864947845529848\n"
     ]
    }
   ],
   "source": [
    "from sklearn.metrics import mean_squared_error, r2_score\n",
    "\n",
    "rmse = mean_squared_error(result['Predito'], result['Real'], squared=False)\n",
    "\n",
    "r2 = r2_score(result['Real'], result['Predito'])\n",
    "\n",
    "print(f'Root Mean Squared Error: {rmse}')\n",
    "print(f'Coeficiente de Determinação: {r2}')"
   ]
  },
  {
   "cell_type": "markdown",
   "id": "b5097975",
   "metadata": {},
   "source": [
    "As métricas utilizadas para avaliação do modelo foram o RMSE e o Coeficiente de Determinação (R²). A Raiz do Erro Quadrático Médio (RMSE) representa a diferença entre os valores preditos e observados do modelo, ou seja, quanto menor essa diferença, menor será o erro. Já o R² indica o quão próximo as medidas reais estão do modelo, isto é, quanto maior o seu valor, melhor o modelo está ajustado aos valores reais.\n",
    "\n",
    "Analisando o RMSE obtido pelo modelo, pode-se concluir que o erro manteve-se dentro de um limite aceitável, visto que as predições podem estar diferentes 0.90°C para mais ou para menos. Além disso, o modelo conseguiu identificar o momentos de alta e de baixa que podem ser observados no Gráfico predito x real. Ressalta-se que em determinados problemas, é mais importante saber o \"quando\" do que o \"quanto\", isto é, o momento do pico ou do vale ao invés da quantidade para atingir tais momentos.\n",
    "\n",
    "Já o R² do modelo desenvolvido atingiu um valor de 0.98 e provavelmente está sobreajustado aos dados (overfitting), isto é, o modelo tende a aumentar o erro com dados novos que sejam muito diferentes dos dados utilizados para treinamento. Entretanto, o sobreajuste do modelo desenvolvido pode não significar uma ineficiência, visto que a série temporal é estacionária e não possui grande variação de valores no período observado. \n",
    "\n",
    "Adicionalmente, o modelo atingiu uma eficácia adequada utilizando dados de teste para predição, os quais eram desconhecidos na etapa de treinamento do modelo."
   ]
  }
 ],
 "metadata": {
  "kernelspec": {
   "display_name": "Python 3 (ipykernel)",
   "language": "python",
   "name": "python3"
  },
  "language_info": {
   "codemirror_mode": {
    "name": "ipython",
    "version": 3
   },
   "file_extension": ".py",
   "mimetype": "text/x-python",
   "name": "python",
   "nbconvert_exporter": "python",
   "pygments_lexer": "ipython3",
   "version": "3.9.7"
  }
 },
 "nbformat": 4,
 "nbformat_minor": 5
}
